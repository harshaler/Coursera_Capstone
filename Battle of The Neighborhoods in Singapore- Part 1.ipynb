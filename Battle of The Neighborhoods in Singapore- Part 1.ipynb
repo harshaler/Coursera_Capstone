{
 "cells": [
  {
   "cell_type": "markdown",
   "metadata": {},
   "source": [
    "# Battle of The Neighborhoods in Singapore"
   ]
  },
  {
   "cell_type": "markdown",
   "metadata": {},
   "source": [
    "## Table of Contents\n",
    "\n",
    "<div class=\"alert alert-block alert-info\" style=\"margin-top: 20px\">\n",
    "\n",
    "<font size = 3>\n",
    "\n",
    "1. [Introduction and Problem Statement](#introduction)\n",
    "\n",
    "2. [Description of Data and How to use it](#datadescription)\n",
    "    \n",
    "</font>\n",
    "</div>"
   ]
  },
  {
   "cell_type": "markdown",
   "metadata": {},
   "source": [
    "## 1. Introduction and Problem Statement  <a name=\"introduction\"></a>\n",
    "\n",
    "Singapore is small country of 725.7 sq kms area and 5.6 million population. Despite its small size, Singapore has a diversity of languages, religions, and cultures. Singapore does not fit the traditional description of a nation, it is a society-in-transition, given the fact that Singaporeans do not all speak the same language, share the same religion, or have the same customs. This diversity in Singapore population as given rise to neighborhoods which can be distinguiished from each other based on cuisine, culture, food, nationality, religion and many other features.\n",
    "\n",
    "I am trying to explore what the venue distribution tells us about the neighborhood.\n",
    "\n",
    "I am an Indian national residing in Singapore. I have stayed in places such as Clementi, Bukit Panjang.\n",
    "\n",
    "1. Is there a similarity between these locations I have stayed at?\n",
    "2. I am looking to move to east of island due to change in job, which area would be similar to my preference?\n"
   ]
  },
  {
   "cell_type": "markdown",
   "metadata": {},
   "source": [
    "## 2. Description of Data and How to use it <a name=\"datadescription\"></a>\n",
    "\n",
    "#### Wikipedia:\n",
    "Wikipedia on Singapores postal codes gives us the information of how the country is divided into various locations.  \n",
    "https://en.wikipedia.org/wiki/Postal_codes_in_Singapore\n",
    "\n",
    "We can scrape wikipedia page for the postal code table and locations in singapore.\n",
    "\n",
    "#### Geopy library Nominatim API\n",
    "The search API allows you to look up a location from a textual description.\n",
    "From the list of locations in singapore found from wikipedia we can obtain geographical coordinates from geopy library.  (https://nominatim.openstreetmap.org/)\n",
    "\n",
    "#### Foursquare API\n",
    "This API offers real-time access to Foursquare’s global database of rich venue data and user content to power your location-based experiences in your app or website.\n",
    "We then construct a URL to send a request to the Foursquare API to explore geographical locations, and to get trending venues around a location.  \n",
    "https://foursquare.com/\n",
    "\n",
    "So how we would approach this problem using data is as follows:\n",
    "\n",
    "- Collect the Singapore city data from https://en.wikipedia.org/wiki/Postal_codes_in_Singapore\n",
    "- Using Geopy library and Nominatim API we determine coordinates of each loaction\n",
    "- Using FourSquare API we will find all venues for each neighborhood\n",
    "- Using venue descition and frequency we sort each venue by location\n",
    "- Visualize the neighborhoods using folium library\n",
    "- Cluster the neighborhoods using the kmeans clustering algorithm\n",
    "- Derive conclusion based on the clusters and venue data\n"
   ]
  },
  {
   "cell_type": "code",
   "execution_count": null,
   "metadata": {},
   "outputs": [],
   "source": []
  }
 ],
 "metadata": {
  "kernelspec": {
   "display_name": "Python 3",
   "language": "python",
   "name": "python3"
  },
  "language_info": {
   "codemirror_mode": {
    "name": "ipython",
    "version": 3
   },
   "file_extension": ".py",
   "mimetype": "text/x-python",
   "name": "python",
   "nbconvert_exporter": "python",
   "pygments_lexer": "ipython3",
   "version": "3.7.6"
  }
 },
 "nbformat": 4,
 "nbformat_minor": 4
}
